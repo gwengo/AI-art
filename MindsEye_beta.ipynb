{
  "cells": [
    {
      "cell_type": "markdown",
      "metadata": {
        "id": "view-in-github",
        "colab_type": "text"
      },
      "source": [
        "<a href=\"https://colab.research.google.com/github/gwengo/AI-art/blob/main/MindsEye_beta.ipynb\" target=\"_parent\"><img src=\"https://colab.research.google.com/assets/colab-badge.svg\" alt=\"Open In Colab\"/></a>"
      ]
    },
    {
      "cell_type": "markdown",
      "metadata": {
        "id": "nVTCvBBnFZ2h"
      },
      "source": [
        "# MindsEye beta (ai art pilot by multimodal.art)\n",
        "A GUI for generating multimodal art (text-to-image) with multiple models (including Disco Diffusion v5 by <a href=\"https://twitter.com/somnai_dreams\" target=\"_blank\">@somnai_dreams</a> and <a href=\"https://twitter.com/gandamu\" target=\"_blank\">@gandamu</a> and Hypertron v2 VQGAN+CLIP by <a href=\"https://github.com/Philipuss1\" target=\"_blank\">Philipuss</a>).\n",
        "\n",
        "To run the application:\n",
        "1. Press `CTRL+F9` (or `command + F9` on a Mac), or go to the Menu, `Runtime > Run all`\n",
        "![Instructions](https://i.imgur.com/59eRrO0.png)\n",
        "2. When prompted to connect with Google Drive, accept it to have models and gallery there. If you refuse it all will still work, but you'll lose everything after closing the Colab tab\n",
        "2. Wait for the wheel below `Install the requirements` to finish spinning (where it reads \"4 cells hidden\")\n",
        "2. The wheel at `\"Run streamlit (GUI app)...\"` should **stay** spinning\n",
        "4. Click the link that will come after `\"your url is...\"`. You can **ignore** the Network URL and Extrnal URL links.\n",
        "\n",
        "If questions still remain on how to launch the application, check out our [Guide](https://multimodal.art/mindseye), or come hang out on [Discord](https://discord.gg/kepXxmv6) or [Twitter](https://twitter.com/multimodalart)"
      ]
    },
    {
      "cell_type": "markdown",
      "metadata": {
        "id": "vr-fG_VkLGRV"
      },
      "source": [
        "#### Credits\n"
      ]
    },
    {
      "cell_type": "markdown",
      "metadata": {
        "id": "O2_NuBvOLT2F"
      },
      "source": [
        "Disco Diffusion v5 model by <a href=\"#\">@somnai_dreams</a> and <a href=\"#\">@gandamu</a>, based on the fundational work of <a href=\"#\">@RiversHaveWings</a>, with modifications by <a href=\"#\">@danielrussruss</a>, Dango223, [Chigozie Nri's](https://twitter.com/chigozienri), <a href=\"#\">@softology</a> and others.<br>\n",
        "\n",
        "<a href=\"#\">Hypertron v2</a> VQGAN model by Philipuss adapted from <a href=\"#\">@RiversHaveWings</a> with modifications by <a href=\"#\">@jbusted</a>, <a href=\"#\">@softology</a> and others. Original GAN+CLIP by <a href=\"#\">@advadnoun</a>. \n",
        "\n",
        "CLIP and Diffusion were released by OpenAI. VQGAN by CompVis Heidelberg</small>"
      ]
    },
    {
      "cell_type": "markdown",
      "metadata": {
        "id": "20LWy-FPFot9"
      },
      "source": [
        "#### Install the requirements (may take around 3-5 minutes, don't give up!)\n",
        "(If you wish to save models and generated images on Google Drive, connect with it when prompted `recommended`)"
      ]
    },
    {
      "cell_type": "code",
      "execution_count": null,
      "metadata": {
        "cellView": "form",
        "id": "hyV7ukOVpHYa"
      },
      "outputs": [],
      "source": [
        "#@title 1.1 Check GPU time\n",
        "#@markdown ### Factory reset runtime if you don't have the desired GPU.\n",
        "\n",
        "#@markdown ---\n",
        "\n",
        "#@markdown V100 = Excellent (*Available only for Colab Pro Users*)\n",
        "\n",
        "#@markdown P100 = Very Good\n",
        "\n",
        "#@markdown T4 = Good\n",
        "\n",
        "#@markdown K80 = Meh\n",
        "\n",
        "#@markdown P4 = (Not Recommended)\n",
        "\n",
        "#@markdown ---\n",
        "import subprocess\n",
        "!nvidia-smi"
      ]
    },
    {
      "cell_type": "code",
      "execution_count": null,
      "metadata": {
        "id": "iMgK7GklaEFU",
        "cellView": "form"
      },
      "outputs": [],
      "source": [
        "#@title 1.2 Anti disconnect from Colab\n",
        "#@markdown ## This will increase your session time\n",
        "#@markdown (It will anyhow disconnect after 6 - 12 hrs for using the free version of Colab.\n",
        "#@markdown Colab Pro users will get about 24 hrs usage time)\n",
        "\n",
        "import IPython\n",
        "js_code = '''\n",
        "function ClickConnect(){\n",
        "console.log(\"Working\");\n",
        "document.querySelector(\"colab-toolbar-button#connect\").click()\n",
        "}\n",
        "setInterval(ClickConnect,60000)\n",
        "'''\n",
        "display(IPython.display.Javascript(js_code))"
      ]
    },
    {
      "cell_type": "code",
      "execution_count": null,
      "metadata": {
        "id": "RRBenH-Wv-Cu"
      },
      "outputs": [],
      "source": [
        "#@title 1.3 Install Dependencies\n",
        "\n",
        "import sys\n",
        "import torch\n",
        "import os\n",
        "try:\n",
        "    from google.colab import drive\n",
        "    is_colab = True\n",
        "    try:\n",
        "      drive.mount('/content/drive')\n",
        "      is_drive = True\n",
        "    except:\n",
        "      is_colab = True\n",
        "      is_drive = False\n",
        "except:\n",
        "    is_colab = False\n",
        "    is_drive = False\n",
        "    \n",
        "!pip install streamlit==1.7.0\n",
        "!pip install wget\n",
        "!pip install fvcore iopath lpips datetime timm ftfy\n",
        "!pip install pytorch-lightning\n",
        "!pip install omegaconf\n",
        "!pip install einops\n",
        "!pip install stqdm\n",
        "!pip install kora\n",
        "!pip install imageio\n",
        "!pip install kornia\n",
        "!pip install pathvalidate\n",
        "!pip install dalle_pytorch\n",
        "pyt_version_str=torch.__version__.split(\"+\")[0].replace(\".\", \"\")\n",
        "version_str=\"\".join([\n",
        "    f\"py3{sys.version_info.minor}_cu\",\n",
        "    torch.version.cuda.replace(\".\",\"\"),\n",
        "    f\"_pyt{pyt_version_str}\"\n",
        "])\n",
        "#!pip install --no-index --no-cache-dir pytorch3d -f https://dl.fbaipublicfiles.com/pytorch3d/packaging/wheels/{version_str}/download.html\n",
        "!git clone https://github.com/MSFTserver/pytorch3d-lite.git\n",
        "sys.path.append('./pytorch3d-lite')\n",
        "import pathlib, shutil\n",
        "from os.path import exists as path_exists\n",
        "import wget\n",
        "  \n",
        "root_path = f'.'\n",
        "if(not is_drive):\n",
        "  model_path = root_path\n",
        "else:\n",
        "  if not path_exists(\"/content/drive/MyDrive/MindsEye/\"):\n",
        "    os.makedirs(\"/content/drive/MyDrive/MindsEye/models\")\n",
        "  model_path = f'/content/drive/MyDrive/MindsEye/models'\n",
        "\n",
        "pathlib.Path(model_path).mkdir(parents=True, exist_ok=True)\n",
        "\n",
        "if not (path_exists(f'{model_path}/512x512_diffusion_uncond_finetune_008100.pt')):\n",
        "  wget.download(\"https://v-diffusion.s3.us-west-2.amazonaws.com/512x512_diffusion_uncond_finetune_008100.pt\", model_path)\n",
        "if not (path_exists(f'{model_path}/secondary_model_imagenet_2.pth')):\n",
        "  wget.download(\"https://v-diffusion.s3.us-west-2.amazonaws.com/secondary_model_imagenet_2.pth\", model_path)\n",
        "if not (path_exists(f'{model_path}/AdaBins_nyu.pt')):\n",
        "  wget.download(\"https://cloudflare-ipfs.com/ipfs/Qmd2mMnDLWePKmgfS8m6ntAg4nhV5VkUyAydYBp8cWWeB7/AdaBins_nyu.pt\", model_path)\n",
        "if not (path_exists(f'{model_path}/vqgan_imagenet_f16_16384.ckpt')):\n",
        "  !curl -L -o  '{model_path}/vqgan_imagenet_f16_16384.yaml' -C - 'https://heibox.uni-heidelberg.de/d/a7530b09fed84f80a887/files/?p=%2Fconfigs%2Fmodel.yaml&dl=1' #ImageNet 16384\n",
        "  !curl -L -o  '{model_path}/vqgan_imagenet_f16_16384.ckpt' -C - 'https://heibox.uni-heidelberg.de/d/a7530b09fed84f80a887/files/?p=%2Fckpts%2Flast.ckpt&dl=1' #ImageNet 16384\n",
        "if not (path_exists(f'{model_path}/diffusion.pt')):\n",
        "  !wget -c -O '{model_path}/diffusion.pt' 'https://dall-3.com/models/glid-3-xl/diffusion.pt' \n",
        "if not (path_exists(f'{model_path}/finetune.pt')):\n",
        "  !wget -c https://dall-3.com/models/glid-3-xl/finetune.pt -O '{model_path}/finetune.pt'\n",
        "if not (path_exists(f'{model_path}/bert.pt')):\n",
        "  !wget -c https://dall-3.com/models/glid-3-xl/bert.pt -O '{model_path}/bert.pt'\n",
        "if not (path_exists(f'{model_path}/kl-f8.pt')):  \n",
        "  !wget -c https://dall-3.com/models/glid-3-xl/kl-f8.pt -O '{model_path}/kl-f8.pt'\n",
        "  \n",
        "!git clone \"https://github.com/CompVis/taming-transformers.git\"\n",
        "!git clone \"https://github.com/openai/CLIP.git\"\n",
        "!git clone \"https://github.com/crowsonkb/guided-diffusion.git\"\n",
        "!git clone \"https://github.com/assafshocher/ResizeRight.git\"\n",
        "!git clone \"https://github.com/isl-org/MiDaS.git\"\n",
        "if not path_exists(f'{root_path}/MiDaS/midas_utils.py'):\n",
        "  os.rename(\"MiDaS/utils.py\", \"MiDaS/midas_utils.py\")\n",
        "!git clone \"https://github.com/CompVis/latent-diffusion.git\"\n",
        "!git clone \"https://github.com/shariqfarooq123/AdaBins.git\"\n",
        "!git clone \"https://github.com/alembics/disco-diffusion.git\"\n",
        "!git clone \"https://github.com/Jack000/glid-3-xl\"\n",
        "if not path_exists(f'{root_path}/glid-3-xl/jack_guided_diffusion'):\n",
        "  os.rename('glid-3-xl/guided_diffusion', 'glid-3-xl/jack_guided_diffusion')\n",
        "!git clone \"https://github.com/multimodalart/mindseye.git\"\n",
        "!mkdir .streamlit\n",
        "shutil.copyfile(\"mindseye/.streamlit/config.toml\", \".streamlit/config.toml\")\n",
        "shutil.copyfile(\"mindseye/app.py\", \"app.py\")\n",
        "shutil.copyfile(\"mindseye/disco_streamlit_run.py\", \"disco_streamlit_run.py\")\n",
        "shutil.copyfile(\"mindseye/hypertron_streamlit_run.py\",\"hypertron_streamlit_run.py\")\n",
        "shutil.copyfile(\"mindseye/latent_streamlit_run.py\", \"latent_streamlit_run.py\")\n",
        "shutil.copyfile(\"mindseye/streamlit_nested_expanders.py\", \"streamlit_nested_expanders.py\")\n",
        "if not path_exists(f'{root_path}/disco_xform_utils.py'):\n",
        "  shutil.copyfile(\"disco-diffusion/disco_xform_utils.py\", \"disco_xform_utils.py\")\n",
        "\n",
        "#sys.path.append('./mindseye')\n",
        "sys.path.append('./guided-diffusion')\n",
        "sys.path.append('./latent-diffusion')\n",
        "sys.path.append(\".\")\n",
        "sys.path.append('./taming-transformers')\n",
        "sys.path.append('./disco-diffusion')\n",
        "sys.path.append('./AdaBins')"
      ]
    },
    {
      "cell_type": "code",
      "execution_count": null,
      "metadata": {
        "cellView": "form",
        "id": "CHtULqEM6mHY"
      },
      "outputs": [],
      "source": [
        "#@title 1.4 Install LocalTunnel\n",
        "#Hey that is a dependency too! I know\n",
        "!!npm install -g localtunnel"
      ]
    },
    {
      "cell_type": "markdown",
      "metadata": {
        "id": "j7_oaqKSFsDY"
      },
      "source": [
        "#### Do the run. (Click the link on `your url is:` link to access the tool!)\n",
        "![Where to click](https://i.imgur.com/4gADD4s.png)\n"
      ]
    },
    {
      "cell_type": "code",
      "execution_count": null,
      "metadata": {
        "id": "HZQ5nkgx6qh_",
        "cellView": "form"
      },
      "outputs": [],
      "source": [
        "#@title Run the application!\n",
        "!streamlit run app.py & npx localtunnel --port 8501"
      ]
    }
  ],
  "metadata": {
    "accelerator": "GPU",
    "colab": {
      "collapsed_sections": [
        "vr-fG_VkLGRV",
        "20LWy-FPFot9"
      ],
      "name": "MindsEye beta.ipynb",
      "provenance": [],
      "machine_shape": "hm",
      "private_outputs": true,
      "include_colab_link": true
    },
    "kernelspec": {
      "display_name": "Python 3",
      "name": "python3"
    },
    "language_info": {
      "name": "python"
    }
  },
  "nbformat": 4,
  "nbformat_minor": 0
}